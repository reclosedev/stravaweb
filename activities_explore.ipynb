{
 "cells": [
  {
   "cell_type": "code",
   "execution_count": null,
   "metadata": {},
   "outputs": [],
   "source": [
    "import pandas as pd\n",
    "import geopandas as gpd\n",
    "import folium\n",
    "import dataset\n",
    "from shapely.geometry import LineString, Point, MultiPoint"
   ]
  },
  {
   "cell_type": "code",
   "execution_count": null,
   "metadata": {},
   "outputs": [],
   "source": [
    "%%time\n",
    "\n",
    "db = dataset.connect('sqlite:///stravaweb/strava_activities.sqlite')\n",
    "BASE_POINT = Point(44.01016, 56.31832)\n",
    "SIMPLIFY_THRESHOLD = 0.0001\n",
    "MAX_DISTANCE = 5  # in degrees\n",
    "crs = {'init': 'epsg:3857'}\n",
    "\n",
    "df = pd.DataFrame(x for x in db['activities'].all() if x['latlng'])\n",
    "df['dateteime'] = pd.to_datetime(df['datetime'])\n",
    "df = df.drop(columns=['time', 'velocity_smooth', 'id'])\n",
    "gdf = gpd.GeoDataFrame(df.drop(columns=['latlng']), geometry=[LineString([(pt[1], pt[0]) for pt in x]) for x in df.latlng], crs=crs)\n",
    "gdf['distance_to_base'] = gdf.geometry.distance(BASE_POINT)\n",
    "gdf['start_loc'] = gpd.GeoSeries([Point((x[0][1], x[0][0])) for x in df.latlng], crs=crs)\n",
    "print(gdf.shape[0])\n",
    "gdf.dtypes"
   ]
  },
  {
   "cell_type": "code",
   "execution_count": null,
   "metadata": {},
   "outputs": [],
   "source": [
    "gdf.distance_to_base.hist(bins=10)\n",
    "gdf.start_loc.plot()"
   ]
  },
  {
   "cell_type": "code",
   "execution_count": null,
   "metadata": {},
   "outputs": [],
   "source": [
    "gdf[gdf.distance_to_base > MAX_DISTANCE].shape[0]"
   ]
  },
  {
   "cell_type": "code",
   "execution_count": null,
   "metadata": {},
   "outputs": [],
   "source": [
    "%%time\n",
    "import bisect\n",
    "from shapely.geometry.collection import GeometryCollection\n",
    "\n",
    "\n",
    "def highlight_function(feature):\n",
    "    return {\n",
    "        'fillColor': 'green',\n",
    "        'color': 'green',\n",
    "        'weight': 3,\n",
    "        'dashArray': '5, 5'\n",
    "    }\n",
    "\n",
    "\n",
    "# FeatureCollection is used here because geometry collection has bug with highlighting\n",
    "class FeatureCollection(GeometryCollection):\n",
    "    @property\n",
    "    def __geo_interface__(self):\n",
    "        features = []\n",
    "        for geom in self.geoms:\n",
    "            features.append({'type': 'Feature', 'geometry': geom.__geo_interface__})\n",
    "        return dict(type='FeatureCollection', features=features)\n",
    "\n",
    "\n",
    "def generate_map(selected_df):\n",
    "    minmax = selected_df.agg({'datetime': ['min', 'max']}).values\n",
    "    min_date, max_date = pd.to_datetime(minmax[0][0]), pd.to_datetime(minmax[1][0])\n",
    "    n_groups = 10\n",
    "    delta = ((max_date - min_date) // n_groups)\n",
    "    groups = [(min_date + delta * i).date() for i in range(1, n_groups + 1)]\n",
    "\n",
    "    groups_by_key = {}\n",
    "\n",
    "    my_map = folium.Map(location=[BASE_POINT.y, BASE_POINT.x], zoom_start=12)\n",
    "    for row in selected_df.sort_values('datetime').itertuples():\n",
    "        tooltip = '{} - {}'.format(row.athlete_name, row.title)\n",
    "        route = row.geometry.simplify(SIMPLIFY_THRESHOLD, preserve_topology=False)\n",
    "        date = pd.to_datetime(row.datetime).date()\n",
    "        date_from_group = groups[bisect.bisect_left(groups, date)]\n",
    "        start = date_from_group - delta\n",
    "        layer_key = '{} - {}'.format(start.isoformat(), date_from_group.isoformat())\n",
    "\n",
    "        fg = groups_by_key.get(layer_key)\n",
    "        if not fg:\n",
    "            fg = folium.FeatureGroup(layer_key).add_to(my_map)\n",
    "            groups_by_key[layer_key] = fg\n",
    "\n",
    "        geo_obj = folium.GeoJson(\n",
    "            FeatureCollection([row.start_loc, route]), tooltip=tooltip, \n",
    "            highlight_function=highlight_function,\n",
    "        ).add_to(fg)\n",
    "        popup = '<a href=\"https://www.strava.com/athletes/{athlete_id}\" target=\"_blank\">{athlete_name}</a> - <a href=\"https://www.strava.com/activities/{activity_id}\" target=\"_blank\">{activity_name} ({datetime})</a>'.format(\n",
    "            athlete_id=row.athlete_id, athlete_name=row.athlete_name, activity_id=row.activity_id, activity_name=row.title, datetime=row.datetime\n",
    "        )\n",
    "        folium.Popup(popup).add_to(geo_obj)\n",
    "\n",
    "    folium.LayerControl(sortLayers=True).add_to(my_map)\n",
    "    return my_map\n",
    "\n",
    "my_map = generate_map(gdf[gdf.distance_to_base < MAX_DISTANCE])\n",
    "my_map"
   ]
  },
  {
   "cell_type": "code",
   "execution_count": null,
   "metadata": {},
   "outputs": [],
   "source": [
    "my_map.save('result.html')"
   ]
  },
  {
   "cell_type": "code",
   "execution_count": null,
   "metadata": {},
   "outputs": [],
   "source": [
    "sel = gdf[gdf.athlete_name.str.contains('Haritonov')].iloc[0]\n",
    "display(GeometryCollection([sel.start_loc, sel.geometry.centroid, sel.geometry.representative_point(), sel.geometry, sel.geometry.convex_hull]))"
   ]
  },
  {
   "cell_type": "code",
   "execution_count": null,
   "metadata": {},
   "outputs": [],
   "source": [
    "from shapely.strtree import STRtree\n",
    "tree = STRtree(gdf.geometry)"
   ]
  },
  {
   "cell_type": "code",
   "execution_count": null,
   "metadata": {},
   "outputs": [],
   "source": [
    "%%time\n",
    "\n",
    "len(tree.query(BASE_POINT.buffer(0.0000000001)))"
   ]
  },
  {
   "cell_type": "code",
   "execution_count": null,
   "metadata": {},
   "outputs": [],
   "source": [
    "for i in range(10):\n",
    "    display(GeometryCollection([gdf.geometry[i].centroid, gdf.geometry[i].representative_point(), gdf.geometry[i]]))"
   ]
  }
 ],
 "metadata": {
  "kernelspec": {
   "display_name": "Python 3",
   "language": "python",
   "name": "python3"
  },
  "language_info": {
   "codemirror_mode": {
    "name": "ipython",
    "version": 3
   },
   "file_extension": ".py",
   "mimetype": "text/x-python",
   "name": "python",
   "nbconvert_exporter": "python",
   "pygments_lexer": "ipython3",
   "version": "3.8.2"
  }
 },
 "nbformat": 4,
 "nbformat_minor": 4
}
