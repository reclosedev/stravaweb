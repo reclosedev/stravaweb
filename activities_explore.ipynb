{
 "cells": [
  {
   "cell_type": "code",
   "execution_count": null,
   "metadata": {},
   "outputs": [],
   "source": [
    "import pandas as pd\n",
    "import geopandas as gpd\n",
    "from shapely.geometry import LineString, Point, MultiPoint\n",
    "import folium\n",
    "import dataset"
   ]
  },
  {
   "cell_type": "code",
   "execution_count": null,
   "metadata": {},
   "outputs": [],
   "source": [
    "%%time\n",
    "\n",
    "db = dataset.connect('sqlite:///stravaweb/strava_activities.sqlite')\n",
    "BASE_POINT = Point(44.01016, 56.31832)\n",
    "SIMPLIFY_THRESHOLD = 0.0001\n",
    "MAX_DISTANCE = 5  # in degrees\n",
    "crs = {'init': 'epsg:3857'}\n",
    "\n",
    "df = pd.DataFrame(x for x in db['activities'].all() if x['latlng'])\n",
    "df['dateteime'] = pd.to_datetime(df['datetime'])\n",
    "df = df.drop(columns=['time', 'velocity_smooth', 'id'])\n",
    "gdf = gpd.GeoDataFrame(df.drop(columns=['latlng']), geometry=[LineString([(pt[1], pt[0]) for pt in x]) for x in df.latlng], crs=crs)\n",
    "gdf['distance_to_base'] = gdf.geometry.distance(BASE_POINT)\n",
    "gdf['point'] = gpd.GeoSeries([Point((x[0][1], x[0][0])) for x in df.latlng], crs=crs)\n",
    "print(gdf.shape[0])\n",
    "gdf.dtypes"
   ]
  },
  {
   "cell_type": "code",
   "execution_count": null,
   "metadata": {},
   "outputs": [],
   "source": [
    "gdf.distance_to_base.hist(bins=10)\n",
    "gdf.point.plot()"
   ]
  },
  {
   "cell_type": "code",
   "execution_count": null,
   "metadata": {},
   "outputs": [],
   "source": [
    "gdf[gdf.distance_to_base > MAX_DISTANCE].shape[0]"
   ]
  },
  {
   "cell_type": "code",
   "execution_count": null,
   "metadata": {},
   "outputs": [],
   "source": [
    "%%time\n",
    "from shapely.geometry.collection import GeometryCollection\n",
    "\n",
    "def highlight_function(feature):\n",
    "    return {\n",
    "        'fillColor': 'green',\n",
    "        'color': 'green',\n",
    "        'weight': 3,\n",
    "        'dashArray': '5, 5'\n",
    "    }\n",
    "\n",
    "\n",
    "class FeatureCollection(GeometryCollection):\n",
    "    @property\n",
    "    def __geo_interface__(self):\n",
    "        features = []\n",
    "        for geom in self.geoms:\n",
    "            features.append({'type': 'Feature', 'geometry': geom.__geo_interface__})\n",
    "        return dict(type='FeatureCollection', features=features)\n",
    "\n",
    "\n",
    "my_map = folium.Map(location=[BASE_POINT.y, BASE_POINT.x], zoom_start=12)\n",
    "\n",
    "for row in gdf[gdf.distance_to_base < MAX_DISTANCE].itertuples():\n",
    "    tooltip = '{} - {}'.format(row.athlete_name, row.title)\n",
    "    route = row.geometry.simplify(SIMPLIFY_THRESHOLD, preserve_topology=False)\n",
    "    geo_obj = folium.GeoJson(\n",
    "        FeatureCollection([row.point, route]), tooltip=tooltip, \n",
    "        highlight_function=highlight_function,\n",
    "    ).add_to(my_map)\n",
    "    popup = '<a href=\"https://www.strava.com/athletes/{athlete_id}\" target=\"_blank\">{athlete_name}</a> - <a href=\"https://www.strava.com/activities/{activity_id}\" target=\"_blank\">{activity_name} ({datetime})</a>'.format(\n",
    "        athlete_id=row.athlete_id, athlete_name=row.athlete_name, activity_id=row.activity_id, activity_name=row.title, datetime=row.datetime\n",
    "    )\n",
    "    folium.Popup(popup).add_to(geo_obj)\n",
    "#     break\n",
    "\n",
    "my_map"
   ]
  },
  {
   "cell_type": "code",
   "execution_count": null,
   "metadata": {},
   "outputs": [],
   "source": [
    "my_map.save('result.html')"
   ]
  }
 ],
 "metadata": {
  "kernelspec": {
   "display_name": "Python 3",
   "language": "python",
   "name": "python3"
  },
  "language_info": {
   "codemirror_mode": {
    "name": "ipython",
    "version": 3
   },
   "file_extension": ".py",
   "mimetype": "text/x-python",
   "name": "python",
   "nbconvert_exporter": "python",
   "pygments_lexer": "ipython3",
   "version": "3.8.2"
  }
 },
 "nbformat": 4,
 "nbformat_minor": 4
}
