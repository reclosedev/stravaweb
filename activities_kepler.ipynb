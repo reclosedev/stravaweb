{
 "cells": [
  {
   "cell_type": "code",
   "execution_count": null,
   "metadata": {},
   "outputs": [],
   "source": [
    "import time\n",
    "import os\n",
    "import json\n",
    "\n",
    "import pandas as pd\n",
    "import dataset\n",
    "import haversine\n",
    "from keplergl import KeplerGl\n",
    "from simplification.cutil import simplify_coords_idx"
   ]
  },
  {
   "cell_type": "code",
   "execution_count": null,
   "metadata": {},
   "outputs": [],
   "source": [
    "%%time\n",
    "# TODO move to helper module\n",
    "\n",
    "BASE_POINT = (44.01016, 56.31832)\n",
    "DISTANCE_LIMIT_KM = 600\n",
    "SIMPLIFY_THRESHOLD = 0.0001\n",
    "LIMIT_ACTIVITIES = None\n",
    "CONFIG_FILE_LOCATION = 'map_config.json'\n",
    "DATE_GTE = '2020-07-24'\n",
    "\n",
    "NO_LIMITS = True\n",
    "if NO_LIMITS:\n",
    "    DATE_GTE = None\n",
    "    LIMIT_ACTIVITIES = None\n",
    "    DISTANCE_LIMIT_KM = 0\n",
    "    \n",
    "filters = {\n",
    "    '_limit': LIMIT_ACTIVITIES,\n",
    "}\n",
    "if DATE_GTE:\n",
    "    filters['datetime'] = {'gte': DATE_GTE}\n",
    "\n",
    "\n",
    "def fix_order(entry):\n",
    "    entry['latlng'] = [(x[1], x[0]) for x in entry['latlng']]\n",
    "    return entry\n",
    "\n",
    "\n",
    "db = dataset.connect('sqlite:///stravaweb/strava_activities.sqlite')\n",
    "df = pd.DataFrame(fix_order(x) for x in db['activities'].all(**filters) if x['latlng'])\n",
    "df['datetime'] = pd.to_datetime(df['datetime'])\n",
    "df['datetime'] = df['datetime'] + pd.Timedelta(hours=3)  # hack to make Moscow time\n",
    "\n",
    "\n",
    "def gen_features(df, simplify_threshold=0.001):\n",
    "    for latlng, times, base_datetime in zip(df.latlng, df.time, df.datetime):\n",
    "        base_time = base_datetime.timestamp()\n",
    "        indexes = simplify_coords_idx(latlng, simplify_threshold)\n",
    "        #          lat           lon           alt   time                \n",
    "        coords = [[latlng[i][0], latlng[i][1], 0, int(base_time + times[i])] for i in indexes]\n",
    "        yield {\n",
    "            \"type\": \"FeatureCollection\",\n",
    "            \"features\": [\n",
    "              {\n",
    "                \"type\": \"Feature\",\n",
    "                \"geometry\": {\n",
    "                  \"type\": \"LineString\",\n",
    "                  \"coordinates\": coords,\n",
    "                }\n",
    "              }\n",
    "            ]\n",
    "          }\n",
    "\n",
    "df['track'] = list(gen_features(df, SIMPLIFY_THRESHOLD))\n",
    "df['athlete_url'] = df.apply(\n",
    "    lambda x: 'https://www.strava.com/athletes/{}'.format(x['athlete_id']),\n",
    "    axis=1\n",
    ")\n",
    "df['activity_url'] = df.apply(\n",
    "    lambda x: 'https://www.strava.com/activities/{}'.format(x['activity_id']),\n",
    "    axis=1\n",
    ")\n",
    "df['distance_to_base_km'] = df.apply(lambda x: haversine.haversine(x['latlng'][0], BASE_POINT), axis=1)\n",
    "if DISTANCE_LIMIT_KM:\n",
    "    df = df[df.distance_to_base_km < DISTANCE_LIMIT_KM]\n",
    "\n",
    "df = df.drop(columns=['velocity_smooth', 'id', 'latlng', 'time'])\n",
    "df['datetime'] = df['datetime'].astype(str)  # Need to convert datetime back to string, because kepler can't convert it to JSON\n",
    "\n",
    "print('Selected activities', df.shape[0])\n",
    "df.head()"
   ]
  },
  {
   "cell_type": "code",
   "execution_count": null,
   "metadata": {},
   "outputs": [],
   "source": [
    "config = None\n",
    "if os.path.exists(CONFIG_FILE_LOCATION):\n",
    "    with open(CONFIG_FILE_LOCATION) as fp:\n",
    "        config = json.load(fp)\n",
    "        \n",
    "my_map = KeplerGl(height=800, config=config)\n",
    "my_map.add_data(df, 'tracks')\n",
    "my_map"
   ]
  },
  {
   "cell_type": "code",
   "execution_count": null,
   "metadata": {},
   "outputs": [],
   "source": [
    "my_map.save_to_html(file_name='tracks_map.html')\n",
    "# https://github.com/keplergl/kepler.gl/issues/1162 \n",
    "# modify site-packages/keplergl/static/keplergl.html to save tooltips config"
   ]
  },
  {
   "cell_type": "code",
   "execution_count": null,
   "metadata": {},
   "outputs": [],
   "source": [
    "# Uncomment to overwrite map config after tuning\n",
    "\n",
    "def save_config(m):\n",
    "    with open(CONFIG_FILE_LOCATION, 'w') as fp:\n",
    "        json.dump(m.config, fp)\n",
    "# save_config(my_map)"
   ]
  }
 ],
 "metadata": {
  "kernelspec": {
   "display_name": "Python 3",
   "language": "python",
   "name": "python3"
  },
  "language_info": {
   "codemirror_mode": {
    "name": "ipython",
    "version": 3
   },
   "file_extension": ".py",
   "mimetype": "text/x-python",
   "name": "python",
   "nbconvert_exporter": "python",
   "pygments_lexer": "ipython3",
   "version": "3.8.2"
  }
 },
 "nbformat": 4,
 "nbformat_minor": 4
}
