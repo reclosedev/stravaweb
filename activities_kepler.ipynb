{
 "cells": [
  {
   "cell_type": "code",
   "execution_count": null,
   "metadata": {},
   "outputs": [],
   "source": [
    "import time\n",
    "import pandas as pd\n",
    "import geopandas as gpd\n",
    "import dataset\n",
    "from keplergl import KeplerGl\n",
    "from shapely.geometry import LineString, Point, MultiPoint\n",
    "from simplification.cutil import (\n",
    "    simplify_coords,\n",
    "    simplify_coords_idx,\n",
    ")"
   ]
  },
  {
   "cell_type": "code",
   "execution_count": null,
   "metadata": {},
   "outputs": [],
   "source": [
    "%%time\n",
    "\n",
    "db = dataset.connect('sqlite:///stravaweb/strava_activities.sqlite')\n",
    "BASE_POINT = Point(44.01016, 56.31832)\n",
    "SIMPLIFY_THRESHOLD = 0.0001\n",
    "\n",
    "df = pd.DataFrame(x for x in db['activities'].all(_limit=None) if x['latlng'])\n",
    "\n",
    "\n",
    "def gen_features(df, simplify_threshold=0.001):\n",
    "    for latlng, times, base_datetime in zip(df.latlng, df.time, df.datetime):\n",
    "        base_time = pd.to_datetime(base_datetime).timestamp()\n",
    "        fixed = [(x[1], x[0]) for x in latlng]\n",
    "        indexes = simplify_coords_idx(fixed, simplify_threshold)\n",
    "        coords = [[fixed[i][0], fixed[i][1], 0, int(base_time + times[i])] for i in indexes]\n",
    "#         print(len(indexes), len(times))\n",
    "        yield {\n",
    "            \"type\": \"FeatureCollection\",\n",
    "            \"features\": [\n",
    "              {\n",
    "                \"type\": \"Feature\",\n",
    "                \"geometry\": {\n",
    "                  \"type\": \"LineString\",\n",
    "                  \"coordinates\": coords,\n",
    "                }\n",
    "              }\n",
    "            ]\n",
    "          }\n",
    "\n",
    "df['track'] = list(gen_features(df, SIMPLIFY_THRESHOLD))\n",
    "df = df.drop(columns=['velocity_smooth', 'id', 'latlng', 'time'])\n",
    "\n",
    "print(df.shape[0])\n",
    "df.dtypes\n",
    "# import json\n",
    "# print(json.dumps(df.track[0]))"
   ]
  },
  {
   "cell_type": "code",
   "execution_count": null,
   "metadata": {},
   "outputs": [],
   "source": [
    "import os\n",
    "import json\n",
    "\n",
    "config = None\n",
    "if os.path.exists('map_config.json'):\n",
    "    with open('map_config.json') as fp:\n",
    "        config = json.load(fp)\n",
    "        \n",
    "my_map = KeplerGl(height=800, config=config)\n",
    "my_map.add_data(df, 'tracks')\n",
    "my_map"
   ]
  },
  {
   "cell_type": "code",
   "execution_count": null,
   "metadata": {},
   "outputs": [],
   "source": [
    "my_map.save_to_html(file_name='tracks_map.html')"
   ]
  },
  {
   "cell_type": "code",
   "execution_count": null,
   "metadata": {},
   "outputs": [],
   "source": [
    "def save_config(m):\n",
    "    import json\n",
    "    with open('map_config.json', 'w') as fp:\n",
    "        json.dump(m.config, fp)\n",
    "#save_config(my_map)"
   ]
  }
 ],
 "metadata": {
  "kernelspec": {
   "display_name": "Python 3",
   "language": "python",
   "name": "python3"
  },
  "language_info": {
   "codemirror_mode": {
    "name": "ipython",
    "version": 3
   },
   "file_extension": ".py",
   "mimetype": "text/x-python",
   "name": "python",
   "nbconvert_exporter": "python",
   "pygments_lexer": "ipython3",
   "version": "3.8.2"
  }
 },
 "nbformat": 4,
 "nbformat_minor": 4
}
